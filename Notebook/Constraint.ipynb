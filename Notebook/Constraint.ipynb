{
 "cells": [
  {
   "cell_type": "code",
   "execution_count": 1,
   "id": "nutritional-discharge",
   "metadata": {},
   "outputs": [
    {
     "name": "stdout",
     "output_type": "stream",
     "text": [
      "pyhf version:  0.5.4\n"
     ]
    }
   ],
   "source": [
    "import numpy as np\n",
    "import matplotlib.pyplot as plt\n",
    "from tqdm import tqdm\n",
    "import time\n",
    "\n",
    "import pyhf\n",
    "\n",
    "print(\"pyhf version: \", pyhf.__version__)"
   ]
  },
  {
   "cell_type": "markdown",
   "id": "resistant-property",
   "metadata": {},
   "source": [
    "# Fitting Procedure\n",
    "\n",
    "* Heavy–quark Yukawa couplings to the light (heavy) CP–even Higgs bosons for type II 2HDM.\n",
    "\n",
    "Correction            |           Type II             | \n",
    "----------------------|:-----------------------------:|\n",
    "1+ $\\Delta^{h^0}_t$   | $\\frac{\\cos\\alpha}{\\sin\\beta}$  |  \n",
    "1+ $\\Delta^{h^0}_b$   | $-\\frac{\\sin\\alpha}{\\cos\\beta}$ |  \n",
    "1+ $\\Delta^{H^0}_t$   | $\\frac{\\sin\\alpha}{\\sin\\beta}$  |  \n",
    "1+ $\\Delta^{H^0}_b$   | $\\frac{\\cos\\alpha}{\\cos\\beta}$  |  \n",
    "\n",
    "* Triple Higgs self–interactions involving the neutral CP–even Higgs fields in the 2HDM.\n",
    "\n",
    "$$\\lambda_{h^0h^0H^0} = \\frac{\\cos(\\beta-\\alpha)}{\\sin2\\beta}\\left[\\sin2\\alpha(2m^2_{h^0}+m^2_{H^0})-\\frac{2M_{12}^2}{\\sin2\\beta}(3\\sin2\\alpha-\\sin2\\beta) \\right]$$\n",
    "\n",
    "* The cross section is propotional to amplitude square: \n",
    "\n",
    "$$\\sigma \\propto|\\mathcal{A}(pp\\to H \\to hh \\to b\\bar{b}b\\bar{b})|^2 \\propto $$\n",
    "\n",
    "$$\\left|\\left[ (1+ \\Delta^{H^0}_t)\\times\\lambda_{h^0h^0H^0}\\times(1+ \\Delta^{h^0}_b)^2 \\right] + \\left[(1+ \\Delta^{H^0}_b)\\times\\lambda_{h^0h^0H^0}\\times(1+ \\Delta^{h^0}_b)^2\\right] \\right|^2 =$$\n",
    "\n",
    "$$\\left| \\left[ (1+ \\Delta^{H^0}_t)+(1+ \\Delta^{H^0}_b)\\right]\\times\\lambda_{h^0h^0H^0}\\times(1+ \\Delta^{h^0}_b)^2  \\right|^2$$\n",
    "\n",
    "* The relation between upper limit for number of signal and  number of survival Monte Carlo signal samples at benchmark point can be written in\n",
    "\n",
    "$$\\frac{N^{sig}_{\\text{limit}}}{N^{sig}_{\\text{MC}}}= \\frac{|\\mathcal{A}(pp\\to H \\to hh \\to b\\bar{b}b\\bar{b})|^2(\\cos(\\beta-\\alpha),M_{12}^2)}{|\\mathcal{A}(pp\\to H \\to hh \\to b\\bar{b}b\\bar{b})|^2_{\\tan\\beta=5,M_{12}^2=400000,\\cos(\\beta-\\alpha)=0.08}}$$\n",
    "\n",
    "\n",
    "* Our benchmark point is at $\\tan\\beta$=5, $M_{12}^2$=400000$\\text{GeV}^2$, $\\cos(\\beta-\\alpha)$=0.08, $M_H=M_A=M_{H^{\\pm}}$=1000GeV, $M_h$=125GeV\n",
    "\n",
    "* $N^{sig}_{\\text{limit}}$ is the function of $\\cos(\\beta-\\alpha)$ and $M_{12}^2$.\n",
    "\n",
    "$$N^{sig}_{\\text{limit}}= \\frac{|\\mathcal{A}(pp\\to H \\to hh \\to b\\bar{b}b\\bar{b})|^2(\\cos(\\beta-\\alpha),M_{12}^2)}{|\\mathcal{A}(pp\\to H \\to hh \\to b\\bar{b}b\\bar{b})|^2_{\\tan\\theta=5,M_{12}^2=400000,\\cos(\\beta-\\alpha)=0.08}}\\times N^{sig}_{\\text{MC}}$$\n",
    "\n",
    "* $N^{sig}_{\\text{MC}}$, $N^{bkg}_{\\text{MC}}$ can be obtained after we apply ML classifier.\n",
    "\n",
    "\n",
    "* Treat $N^{sig}_{\\text{MC}}$, $N^{bkg}_{\\text{MC}}$ as 1 bin case and use CLs method to get expected signal strengths in $2\\sigma$ and $1\\sigma$ bands at 95%C.L.\n",
    "\n",
    "* Translate expected signal strengths to be number of signal events in $2\\sigma$ and $1\\sigma$ bands at 95%C.L.\n",
    "$$1\\sigma\\,\\, \\text{band} = [s_{-1\\sigma}\\times N^{sig}_{\\text{MC}},s_{1\\sigma}\\times N^{sig}_{\\text{MC}}]$$\n",
    "$$2\\sigma\\,\\, \\text{band} = [s_{-2\\sigma}\\times N^{sig}_{\\text{MC}},s_{2\\sigma}\\times N^{sig}_{\\text{MC}}]$$\n",
    "\n",
    "* After scan $\\cos(\\beta-\\alpha)$ and $M_{12}^2$, we can pick allowed sets which let $N^{sig}_{\\text{limit}}$ in the $1\\sigma\\,\\, \\text{band}$ or $2\\sigma\\,\\, \\text{band}$ regions.\n",
    "\n",
    "\n",
    "Ref: [Higgs pair production via gluon fusion in the Two-Higgs-Doublet Model](https://arxiv.org/abs/1407.0281)  \n",
    "Ref: [Exploring sizable triple Higgs couplings in the 2HDM](https://arxiv.org/abs/2005.10576)  \n",
    "Ref: [LHC Search of New Higgs Boson via Resonant Di-Higgs Production with Decays into 4W](https://arxiv.org/abs/1706.05980)"
   ]
  },
  {
   "cell_type": "markdown",
   "id": "balanced-packaging",
   "metadata": {},
   "source": [
    "## Couplings in 2HDM Type II"
   ]
  },
  {
   "cell_type": "code",
   "execution_count": 14,
   "id": "chemical-specification",
   "metadata": {},
   "outputs": [],
   "source": [
    "\"\"\"\n",
    "Convertion:\n",
    "0 ≤ \\beta - \\alpha ≤ 𝜋\n",
    "\n",
    "\n",
    "0 < \\beta <  𝜋/2\n",
    "\"\"\"\n",
    "\n",
    "\n",
    "\"\"\"\n",
    "lambda_Hhh(cb_a, m12s, tb, mH, mh=125 )\n",
    "\"\"\"\n",
    "\n",
    "def lambda_Hhh(cb_a, m12s, tb, mH, mh=125 ):\n",
    "    b_a = np.arccos(cb_a)\n",
    "    b = np.arctan(tb)\n",
    "    a = np.arctan(tb) - np.arccos(cb_a)\n",
    "    \n",
    "    ########################################################################\n",
    "    \"\"\"\n",
    "    arXiv:2005.10576v2 Eq. (32)\n",
    "    \"\"\"\n",
    "    \n",
    "    part_a = (2*mh**2+mH**2-4*(m12s/(np.sin(b)*np.cos(b))))*np.sin(b_a)**2\n",
    "    part_b = 2*1/np.tan(2*b)*(2*mh**2+mH**2-3*(m12s/(np.sin(b)*np.cos(b))))*np.sin(b_a)*cb_a\n",
    "    part_c = (2*mh**2+mH**2-2*(m12s/(np.sin(b)*np.cos(b))))*cb_a**2\n",
    "\n",
    "    return -1*cb_a/246*(part_a+part_b-part_c)\n",
    "    ########################################################################\n",
    "    \n",
    "    \n",
    "    \n",
    "\"\"\"\n",
    "gHt(cb_a, tb)\n",
    "\"\"\"\n",
    "def gHt(cb_a, tb):\n",
    "    b_a = np.arccos(cb_a)\n",
    "    b = np.arctan(tb)\n",
    "    a = np.arctan(tb) - np.arccos(cb_a)\n",
    "    \n",
    "    return np.sin(a)/np.sin(b)\n",
    "\n",
    "    \n",
    "\"\"\"\n",
    "gHb(cb_a, tb)\n",
    "\"\"\"\n",
    "def gHb(cb_a, tb):\n",
    "    b_a = np.arccos(cb_a)\n",
    "    b = np.arctan(tb)\n",
    "    a = np.arctan(tb) - np.arccos(cb_a)\n",
    "    \n",
    "    return np.cos(a)/np.cos(b)\n",
    "    \n",
    "\n",
    "\"\"\"\n",
    "ght(cb_a, tb)\n",
    "\"\"\"\n",
    "def ght(cb_a, tb):\n",
    "    b_a = np.arccos(cb_a)\n",
    "    b = np.arctan(tb)\n",
    "    a = np.arctan(tb) - np.arccos(cb_a)\n",
    "    \n",
    "    return np.cos(a)/np.sin(b)\n",
    "\n",
    "    \n",
    "\"\"\"\n",
    "ghb(cb_a, tb)\n",
    "\"\"\"\n",
    "def ghb(cb_a, tb):\n",
    "    b_a = np.arccos(cb_a)\n",
    "    b = np.arctan(tb)\n",
    "    a = np.arctan(tb) - np.arccos(cb_a)\n",
    "    \n",
    "    return -1*np.sin(a)/np.cos(b)\n",
    "    \n",
    "    \n",
    "    \n",
    "\"\"\"\n",
    "Constraint(cb_a, m12s, tb, mH, mh=125, luminosity = 3000, acceptance = 0.5, Xection = 0.01)\n",
    "\n",
    "luminosity (fb^-1)\n",
    "Xection (pd)\n",
    "\n",
    "m_h:    125.00000\n",
    "m_H:   1000.00000\n",
    "m_A:   1001.00000\n",
    "m_H+:   1001.00000\n",
    "sin(b-a):      0.99612\n",
    "lambda_6:      0.00000\n",
    "lambda_7:      0.00000\n",
    "m12^2: 400000.00000\n",
    "tan(beta):      5.00000  (fix)\n",
    "\n",
    "\n",
    "np.arctan(5) - 𝜋  ≤ \\alpha ≤  np.arctan(5)\n",
    "\n",
    "\"\"\"    \n",
    "    \n",
    "def Constraint_N(cb_a, m12s, tb, mH, mh=125, luminosity = 3000, acceptance = 0.5, Xection = 0.01):\n",
    "    \n",
    "    N_MC = luminosity*acceptance*(Xection*1000)\n",
    "    \n",
    "    numerator = ((1+gHt(cb_a, tb)) + (1+gHb(cb_a, tb)))**2 * (lambda_Hhh(cb_a, m12s, tb, mH, mh=125 )**2) * (1+ghb(cb_a, tb))**4\n",
    "    \n",
    "    cba = np.cos(np.arcsin(0.99612))\n",
    "    denominator =  ((1+gHt(cba, 5)) + (1+gHb(cba, 5)))**2 * (lambda_Hhh(cba, 400000, 5, 1000, mh=125 )**2) * (1+ghb(cba, 5))**4\n",
    "    \n",
    "    return N_MC*(numerator/denominator) #"
   ]
  },
  {
   "cell_type": "code",
   "execution_count": 4,
   "id": "biblical-value",
   "metadata": {},
   "outputs": [
    {
     "name": "stdout",
     "output_type": "stream",
     "text": [
      "CPU times: user 2 µs, sys: 3 µs, total: 5 µs\n",
      "Wall time: 12.2 µs\n"
     ]
    },
    {
     "name": "stderr",
     "output_type": "stream",
     "text": [
      "100%|██████████| 300/300 [00:00<00:00, 8549.92it/s]"
     ]
    },
    {
     "name": "stdout",
     "output_type": "stream",
     "text": [
      "# of H survival: 224.46305280000004\n",
      "# of QCD survival: 10164.286971790481\n"
     ]
    },
    {
     "name": "stderr",
     "output_type": "stream",
     "text": [
      "\n"
     ]
    },
    {
     "name": "stdout",
     "output_type": "stream",
     "text": [
      "Total TIme: 0.20891814629236857 min\n"
     ]
    }
   ],
   "source": [
    "%time\n",
    "time.sleep(1)\n",
    "start = time.time()\n",
    "\n",
    "dictionary = {\n",
    "              \"sig_Xection\" : 0.00081186,\n",
    "              \"sig_Branching_ratio\" : 0.8*0.6*0.6,\n",
    "              \"sig_acceptance\" : 0.8**2*0.5,\n",
    "              \"bkg_Xection\" : 0.277353172,\n",
    "              \"bkg_acceptance\" : 0.34951133357621456**2*0.1,\n",
    "              \"luminosity\": 3000\n",
    "              }\n",
    "    \n",
    "    \n",
    "n_H = dictionary[\"sig_Xection\"]*dictionary[\"sig_Branching_ratio\"]*dictionary[\"sig_acceptance\"]*dictionary[\"luminosity\"]*1000  \n",
    "n_QCD = dictionary[\"bkg_Xection\"]*dictionary[\"bkg_acceptance\"]*dictionary[\"luminosity\"]*1000\n",
    "\n",
    "print(\"# of H survival: {}\".format(n_H))\n",
    "print(\"# of QCD survival: {}\".format(n_QCD))\n",
    "\n",
    "n_slice = 300\n",
    "cb_a = np.linspace(-1 , 1,  n_slice)\n",
    "m12_s = np.linspace(100000 , 1000000,  n_slice)\n",
    "\n",
    "cba = []\n",
    "m12s = []\n",
    "\n",
    "for element in tqdm(cb_a):\n",
    "    for j in range(len(m12_s)):\n",
    "        cba.append(element)\n",
    "        m12s.append(m12_s[j])\n",
    "\n",
    "cba = np.array(cba)\n",
    "m12s = np.array(m12s)   \n",
    "tb = np.full(n_slice*n_slice, 5)\n",
    "mH = np.full(n_slice*n_slice, 1000)\n",
    "mh = np.full(n_slice*n_slice, 125)\n",
    "luminosity = np.full(n_slice*n_slice, dictionary[\"luminosity\"])\n",
    "acceptance = np.full(n_slice*n_slice, dictionary[\"sig_acceptance\"])\n",
    "Xection = np.full(n_slice*n_slice, dictionary[\"sig_Xection\"]*dictionary[\"sig_Branching_ratio\"])\n",
    "\n",
    "constraint_n = np.vectorize(Constraint_N)(cba, m12s, tb, mH, mh, luminosity, acceptance, Xection)\n",
    "# print(constraint_n)\n",
    "\n",
    "finish = time.time()\n",
    "print(\"Total TIme: {} min\".format((finish-start)/60))\n"
   ]
  },
  {
   "cell_type": "markdown",
   "id": "pressed-monitoring",
   "metadata": {},
   "source": [
    "# Upper Limit of Signal Strength by CLs Method\n",
    "\n",
    "Ref :[pyhf.infer.intervals.upperlimit](https://scikit-hep.org/pyhf/_generated/pyhf.infer.intervals.upperlimit.html?highlight=limit#pyhf.infer.intervals.upperlimit)\n"
   ]
  },
  {
   "cell_type": "code",
   "execution_count": 5,
   "id": "better-lodging",
   "metadata": {},
   "outputs": [
    {
     "name": "stdout",
     "output_type": "stream",
     "text": [
      "observations:  [10164.286971790481, 10164.28697179048]\n"
     ]
    },
    {
     "name": "stderr",
     "output_type": "stream",
     "text": [
      "/dicos_ui_home/alanchung/.local/lib/python3.6/site-packages/pyhf/infer/calculators.py:229: RuntimeWarning: invalid value encountered in double_scalars\n",
      "  teststat = (qmu - qmu_A) / (2 * self.sqrtqmuA_v)\n"
     ]
    },
    {
     "name": "stdout",
     "output_type": "stream",
     "text": [
      "CLs: 1.245\n",
      "CLexp: 1.2454, −2σ: 0.6695, −1σ: 0.8972, 0σ: 1.2454, 1σ: 1.7332, 2σ: 2.3235 \n"
     ]
    }
   ],
   "source": [
    "model = pyhf.simplemodels.hepdata_like(\n",
    "    signal_data=[n_H], bkg_data=[n_QCD], bkg_uncerts=[np.sqrt(n_QCD)]\n",
    "    \n",
    ")\n",
    "# print(model)\n",
    "\n",
    "# print(\"Explore model\")\n",
    "# print(f\"  channels: {model.config.channels}\")\n",
    "# print(f\"     nbins: {model.config.channel_nbins}\")\n",
    "# print(f\"   samples: {model.config.samples}\")\n",
    "# print(f\" modifiers: {model.config.modifiers}\")\n",
    "# print(f\"parameters: {model.config.parameters}\")\n",
    "# print(f\"  nauxdata: {model.config.nauxdata}\")\n",
    "# print(f\"   auxdata: {model.config.auxdata}\")\n",
    "\n",
    "# print(\"Expected data: \", model.expected_data([1.0, 1.0]))\n",
    "# print(\"Expected actualdata: \", model.expected_actualdata([1.0, 1.0]))\n",
    "# print(\"Expected auxdata: \", model.expected_auxdata([1.0, 1.0, 0.0]))\n",
    "\n",
    "# init_pars = model.config.suggested_init()\n",
    "# bounds = model.config.suggested_bounds()\n",
    "# print(\"init_pars: \", init_pars)\n",
    "# print(\"bounds: \", bounds)\n",
    "# print(\"the index of the parameter: \", model.config.poi_index)\n",
    "\n",
    "observations = [n_QCD] + model.config.auxdata  # this is a common pattern!\n",
    "print(\"observations: \", observations)\n",
    "\n",
    "\n",
    "scan = np.linspace(0, 5, 101)\n",
    "\n",
    "obs_limit, exp_limits, (scan, results) = pyhf.infer.intervals.upperlimit(\n",
    "                                                                        observations, \n",
    "                                                                        model, \n",
    "                                                                        scan, \n",
    "                                                                        return_results=True\n",
    "                                                                        )\n",
    "\n",
    "\n",
    "print(\"CLs: {:.3f}\".format(obs_limit))\n",
    "print(\"CLexp: {:.4f}, −2σ: {:.4f}, −1σ: {:.4f}, 0σ: {:.4f}, 1σ: {:.4f}, 2σ: {:.4f} \".format(obs_limit,exp_limits[0],exp_limits[1],exp_limits[2],exp_limits[3],exp_limits[4]))"
   ]
  },
  {
   "cell_type": "code",
   "execution_count": 6,
   "id": "least-hartford",
   "metadata": {},
   "outputs": [],
   "source": [
    "\n",
    "# mu_test = 1.2454\n",
    "# CLs_asy, CL_asy, expected_asy, expected_set_asy = pyhf.infer.hypotest(\n",
    "#                                 mu_test, \n",
    "#                                 observations, \n",
    "#                                 model, \n",
    "#                                 return_tail_probs=True,  #returning CLs and [CL_s+b, CL_b]\n",
    "#                                 return_expected = True, # returning CLexp\n",
    "#                                 return_expected_set=True, #returning (−2,−1,0,1,2)\\sigma CLexp\n",
    "#                                 test_stat=\"qtilde\", # \n",
    "#                                 calctype=\"asymptotics\" #default\n",
    "#                             )\n",
    "\n",
    "# print(\"CLs: {:.3f}, CL_sb: {:.3f}, CL_b: {:.3f} \".format(CLs_asy, CL_asy[0], CL_asy[1]))\n",
    "# print(\"CLexp: {:.4f}, −2σ: {:.4f}, −1σ: {:.4f}, 0σ: {:.4f}, 1σ: {:.4f}, 2σ: {:.4f} \".format(expected_asy,expected_set_asy[0],expected_set_asy[1],expected_set_asy[2],expected_set_asy[3],expected_set_asy[4]))\n"
   ]
  },
  {
   "cell_type": "markdown",
   "id": "blond-transformation",
   "metadata": {},
   "source": [
    "# Pick Allowed Parameter sets"
   ]
  },
  {
   "cell_type": "code",
   "execution_count": 7,
   "id": "simple-nitrogen",
   "metadata": {},
   "outputs": [
    {
     "name": "stdout",
     "output_type": "stream",
     "text": [
      "CPU times: user 7 µs, sys: 0 ns, total: 7 µs\n",
      "Wall time: 13.6 µs\n",
      "len(allowed_region_1) 2545\n",
      "len(allowed_region_2) 4763\n"
     ]
    }
   ],
   "source": [
    "%time\n",
    "\n",
    "Limit = {\"−2sigma\": exp_limits[0],\n",
    "         \"−1sigma\": exp_limits[1], \n",
    "         \"expected\": exp_limits[2],\n",
    "         \"1sigma\": exp_limits[3], \n",
    "         \"2sigma\": exp_limits[4]\n",
    "        }\n",
    "\n",
    "\"\"\"\n",
    "1σ\n",
    "\"\"\"\n",
    "n_low_1 = n_H*Limit[\"−1sigma\"]\n",
    "n_high_1 = n_H*Limit[\"1sigma\"]\n",
    "\n",
    "\"2σ\"\n",
    "n_low_2 = n_H*Limit[\"−2sigma\"]\n",
    "n_high_2 = n_H*Limit[\"2sigma\"]\n",
    "\n",
    "\n",
    "constraint_alowed_1 = np.where(constraint_n > n_low_1, constraint_n, 0 )\n",
    "constraint_alowed_1 = np.where(constraint_alowed_1 < n_high_1, constraint_alowed_1, 0 )\n",
    "allowed_region_1 = np.where(constraint_alowed_1 != 0)[0]\n",
    "\n",
    "\n",
    "constraint_alowed_2 = np.where(constraint_n > n_low_2, constraint_n, 0 )\n",
    "constraint_alowed_2 = np.where(constraint_alowed_2 < n_high_2, constraint_alowed_2, 0 )\n",
    "allowed_region_2 = np.where(constraint_alowed_2 != 0)[0]\n",
    "\n",
    "print(\"len(allowed_region_1)\", len(allowed_region_1))\n",
    "print(\"len(allowed_region_2)\", len(allowed_region_2))"
   ]
  },
  {
   "cell_type": "code",
   "execution_count": 8,
   "id": "second-beach",
   "metadata": {},
   "outputs": [
    {
     "data": {
      "image/png": "[encoded data removed]",
      "text/plain": [
       "<Figure size 720x720 with 1 Axes>"
      ]
     },
     "metadata": {
      "needs_background": "light"
     },
     "output_type": "display_data"
    }
   ],
   "source": [
    "fig, ax = plt.subplots(1,1, figsize=(10,10))\n",
    "\n",
    "\n",
    "\n",
    "plt.scatter(cba[allowed_region_2],m12s[allowed_region_2], marker=\".\", s=40 , c='gold', label = \"2$\\sigma$\")\n",
    "plt.scatter(cba[allowed_region_1],m12s[allowed_region_1], marker=\".\", s=40 , c='green', label = \"1$\\sigma$\")\n",
    "plt.scatter(0.08,400000, marker=\"D\", s=40 , c='red', label = \"Benchmark\")\n",
    "\n",
    "\n",
    "\n",
    "plt.xlim((-1,1))\n",
    "# plt.xlim((0.,0.09))\n",
    "plt.ylim((100000,1000000))\n",
    "\n",
    "ax.tick_params(axis='x', labelsize=20)\n",
    "ax.tick_params(axis='y', labelsize=20)\n",
    "plt.xlabel(\"cos($\\\\beta$ - $\\\\alpha$)\", fontsize=25,horizontalalignment='right',x=1)\n",
    "plt.ylabel('$m_{12}^2$ [$\\mathrm{GeV}^2$]', fontsize=25,horizontalalignment='right',y=1)\n",
    "plt.legend(ncol=1, fontsize=25, markerscale=2., scatterpoints=1,\n",
    "           edgecolor = \"w\",fancybox=False, framealpha=0) #bbox_to_anchor=(0.7, 0.1),\n",
    "plt.ticklabel_format(style='plain')\n",
    "# plt.grid()\n",
    "# plt.savefig(\"./Higgs_Pt/Comparison_ROC.pdf\", transparent=True)\n",
    "# plt.subplots_adjust(wspace=0.5, hspace=0.5)\n",
    "plt.show()"
   ]
  },
  {
   "cell_type": "code",
   "execution_count": null,
   "id": "front-career",
   "metadata": {},
   "outputs": [],
   "source": []
  }
 ],
 "metadata": {
  "kernelspec": {
   "display_name": "Python 3",
   "language": "python",
   "name": "python3"
  },
  "language_info": {
   "codemirror_mode": {
    "name": "ipython",
    "version": 3
   },
   "file_extension": ".py",
   "mimetype": "text/x-python",
   "name": "python",
   "nbconvert_exporter": "python",
   "pygments_lexer": "ipython3",
   "version": "3.6.8"
  }
 },
 "nbformat": 4,
 "nbformat_minor": 5
}
