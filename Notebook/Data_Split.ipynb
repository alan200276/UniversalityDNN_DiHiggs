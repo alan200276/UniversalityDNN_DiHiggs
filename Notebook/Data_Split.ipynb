{
 "cells": [
  {
   "cell_type": "code",
   "execution_count": 6,
   "metadata": {},
   "outputs": [],
   "source": [
    "# Numerical Packages\n",
    "import numpy as np\n",
    "import pandas as pd\n",
    "\n",
    "#Common packages\n",
    "import copy\n",
    "from tqdm import tqdm\n",
    " \n",
    "#Plot's Making  Packages\n",
    "import matplotlib.pyplot as plt\n",
    "from matplotlib.ticker import MaxNLocator\n",
    "from mpl_toolkits.axes_grid1 import make_axes_locatable\n",
    "\n",
    "#System Packages\n",
    "import importlib\n",
    "import time\n",
    "import os\n",
    "from os.path import isdir, isfile, join\n",
    "\n",
    "# Learning packages\n",
    "from sklearn.utils import shuffle"
   ]
  },
  {
   "cell_type": "markdown",
   "metadata": {},
   "source": [
    "# Combine High-Level-Feature Data from CSV file"
   ]
  },
  {
   "cell_type": "code",
   "execution_count": 2,
   "metadata": {},
   "outputs": [
    {
     "name": "stderr",
     "output_type": "stream",
     "text": [
      " 12%|█▎        | 1/8 [00:06<00:42,  6.04s/it]"
     ]
    },
    {
     "name": "stdout",
     "output_type": "stream",
     "text": [
      "herwig_ang_H's event number: 999997\n"
     ]
    },
    {
     "name": "stderr",
     "output_type": "stream",
     "text": [
      " 25%|██▌       | 2/8 [00:11<00:35,  5.84s/it]"
     ]
    },
    {
     "name": "stdout",
     "output_type": "stream",
     "text": [
      "herwig_ang_QCD's event number: 1000000\n"
     ]
    },
    {
     "name": "stderr",
     "output_type": "stream",
     "text": [
      " 38%|███▊      | 3/8 [00:17<00:29,  5.95s/it]"
     ]
    },
    {
     "name": "stdout",
     "output_type": "stream",
     "text": [
      "pythia_def_H's event number: 999996\n"
     ]
    },
    {
     "name": "stderr",
     "output_type": "stream",
     "text": [
      " 50%|█████     | 4/8 [00:23<00:23,  5.79s/it]"
     ]
    },
    {
     "name": "stdout",
     "output_type": "stream",
     "text": [
      "pythia_def_QCD's event number: 1000000\n"
     ]
    },
    {
     "name": "stderr",
     "output_type": "stream",
     "text": [
      " 62%|██████▎   | 5/8 [00:28<00:16,  5.63s/it]"
     ]
    },
    {
     "name": "stdout",
     "output_type": "stream",
     "text": [
      "pythia_vin_H's event number: 999997\n"
     ]
    },
    {
     "name": "stderr",
     "output_type": "stream",
     "text": [
      " 75%|███████▌  | 6/8 [00:34<00:11,  5.85s/it]"
     ]
    },
    {
     "name": "stdout",
     "output_type": "stream",
     "text": [
      "pythia_vin_QCD's event number: 1000000\n"
     ]
    },
    {
     "name": "stderr",
     "output_type": "stream",
     "text": [
      " 88%|████████▊ | 7/8 [00:41<00:06,  6.04s/it]"
     ]
    },
    {
     "name": "stdout",
     "output_type": "stream",
     "text": [
      "pythia_dip_H's event number: 1000000\n"
     ]
    },
    {
     "name": "stderr",
     "output_type": "stream",
     "text": [
      "100%|██████████| 8/8 [00:47<00:00,  5.89s/it]"
     ]
    },
    {
     "name": "stdout",
     "output_type": "stream",
     "text": [
      "pythia_dip_QCD's event number: 1000000\n"
     ]
    },
    {
     "name": "stderr",
     "output_type": "stream",
     "text": [
      "\n"
     ]
    }
   ],
   "source": [
    "\"\"\"\n",
    "Local and Data Path @ASGC\n",
    "\"\"\"\n",
    "HOMEPATH = \"/dicos_ui_home/alanchung/UniversalityDNN_DiHiggs/\"\n",
    "Data_High_Level_Features_path =  HOMEPATH + \"Data_ML/\" +\"Data_High_Level_Features/\"\n",
    "\n",
    "\n",
    "process = {\n",
    "            \"herwig_ang_H\" : 0,\n",
    "            \"herwig_ang_QCD\" : 0,\n",
    "            \"pythia_def_H\" : 0,\n",
    "            \"pythia_def_QCD\" : 0,\n",
    "            \"pythia_vin_H\" : 0,\n",
    "            \"pythia_vin_QCD\" : 0,\n",
    "            \"pythia_dip_H\" : 0,\n",
    "            \"pythia_dip_QCD\" : 0 ,\n",
    "#                 \"sherpa_def_H\" : 0,\n",
    "#                 \"sherpa_def_QCD\" : 0\n",
    "              }  \n",
    "\n",
    "try:\n",
    "    \n",
    "    for element in tqdm(process):\n",
    "        process[element] = pd.read_csv(Data_High_Level_Features_path + str(element) + \".csv\")\n",
    "\n",
    "        print(\"{}'s event number: {}\".format(element,len(process[element])))\n",
    "\n",
    "except:\n",
    "    print(\"Let's Combine Files\")\n",
    "\n",
    "    for index, element in tqdm(enumerate(process)):\n",
    "        print(\"Combing Data for {}\".format(element))\n",
    "        \n",
    "        try:\n",
    "            total_data = pd.read_csv(Data_High_Level_Features_path + str(element) + \"_1\" + \".csv\")\n",
    "            print(\"{}'s event number: {}\".format(str(element) + \"_1\", len(total_data)))\n",
    "        except:\n",
    "            total_data = pd.read_csv(Data_High_Level_Features_path + str(element) + \"_2\" + \".csv\")\n",
    "            print(\"{}'s event number: {}\".format(str(element) + \"_2\", len(total_data)))\n",
    "            \n",
    "        if index%2 == 0: #Higgs\n",
    "\n",
    "            for i in range(2,11):\n",
    "                try:\n",
    "                    data_tmp = pd.read_csv(Data_High_Level_Features_path + str(element) + \"_\" + str(i) + \".csv\")\n",
    "                    total_data = pd.concat([total_data, data_tmp],ignore_index=True,axis=0,join='inner')\n",
    "                    print(\"{}'s event number: {}\".format(str(element) + \"_\" + str(i), len(data_tmp)))\n",
    "                except:\n",
    "                    print(\"error: There isn't {} file. \".format(str(element) + \"_\" + str(i) + \".csv\"))\n",
    "\n",
    "        if index%2 == 1: #QCD\n",
    "\n",
    "            for i in range(2,11):\n",
    "                try:\n",
    "                    data_tmp = pd.read_csv(Data_High_Level_Features_path + str(element) + \"_\" + str(i) + \".csv\")\n",
    "                    total_data = pd.concat([total_data, data_tmp],ignore_index=True,axis=0,join='inner')\n",
    "                    print(\"{}'s event number: {}\".format(str(element) + \"_\" + str(i), len(data_tmp)))\n",
    "                except:\n",
    "                    print(\"error: There isn't {} file. \".format(str(element) + \"_\" + str(i) + \".csv\"))\n",
    "\n",
    "        total_data[\"index\"]= np.linspace(0,len(total_data)-1,len(total_data),dtype=\"int\")\n",
    "\n",
    "        total_data.to_csv(Data_High_Level_Features_path + str(element) + \".csv\",index = 0)\n",
    "        \n",
    "        print(\"Finished !!\")"
   ]
  },
  {
   "cell_type": "markdown",
   "metadata": {},
   "source": [
    "# Check Total Events "
   ]
  },
  {
   "cell_type": "code",
   "execution_count": 24,
   "metadata": {},
   "outputs": [
    {
     "name": "stderr",
     "output_type": "stream",
     "text": [
      " 12%|█▎        | 1/8 [00:06<00:43,  6.26s/it]"
     ]
    },
    {
     "name": "stdout",
     "output_type": "stream",
     "text": [
      "herwig_ang_H's event number: 999997\n"
     ]
    },
    {
     "name": "stderr",
     "output_type": "stream",
     "text": [
      " 25%|██▌       | 2/8 [00:07<00:29,  4.84s/it]"
     ]
    },
    {
     "name": "stdout",
     "output_type": "stream",
     "text": [
      "herwig_ang_QCD's event number: 628248\n"
     ]
    },
    {
     "name": "stderr",
     "output_type": "stream",
     "text": [
      " 38%|███▊      | 3/8 [00:13<00:24,  4.96s/it]"
     ]
    },
    {
     "name": "stdout",
     "output_type": "stream",
     "text": [
      "pythia_def_H's event number: 999996\n"
     ]
    },
    {
     "name": "stderr",
     "output_type": "stream",
     "text": [
      " 50%|█████     | 4/8 [00:14<00:15,  3.92s/it]"
     ]
    },
    {
     "name": "stdout",
     "output_type": "stream",
     "text": [
      "pythia_def_QCD's event number: 781866\n"
     ]
    },
    {
     "name": "stderr",
     "output_type": "stream",
     "text": [
      " 62%|██████▎   | 5/8 [00:19<00:13,  4.35s/it]"
     ]
    },
    {
     "name": "stdout",
     "output_type": "stream",
     "text": [
      "pythia_vin_H's event number: 999997\n"
     ]
    },
    {
     "name": "stderr",
     "output_type": "stream",
     "text": [
      " 75%|███████▌  | 6/8 [00:21<00:06,  3.39s/it]"
     ]
    },
    {
     "name": "stdout",
     "output_type": "stream",
     "text": [
      "pythia_vin_QCD's event number: 644853\n"
     ]
    },
    {
     "name": "stderr",
     "output_type": "stream",
     "text": [
      " 88%|████████▊ | 7/8 [00:26<00:03,  3.99s/it]"
     ]
    },
    {
     "name": "stdout",
     "output_type": "stream",
     "text": [
      "pythia_dip_H's event number: 1000000\n"
     ]
    },
    {
     "name": "stderr",
     "output_type": "stream",
     "text": [
      "100%|██████████| 8/8 [00:27<00:00,  3.45s/it]"
     ]
    },
    {
     "name": "stdout",
     "output_type": "stream",
     "text": [
      "pythia_dip_QCD's event number: 606929\n"
     ]
    },
    {
     "name": "stderr",
     "output_type": "stream",
     "text": [
      "\n"
     ]
    }
   ],
   "source": [
    "HOMEPATH = \"/dicos_ui_home/alanchung/UniversalityDNN_DiHiggs/\"\n",
    "Data_High_Level_Features_path =  HOMEPATH + \"Data_ML/\" +\"Data_High_Level_Features/\"\n",
    "\n",
    "process = {\n",
    "            \"herwig_ang_H\" : 0,\n",
    "            \"herwig_ang_QCD\" : 0,\n",
    "            \"pythia_def_H\" : 0,\n",
    "            \"pythia_def_QCD\" : 0,\n",
    "            \"pythia_vin_H\" : 0,\n",
    "            \"pythia_vin_QCD\" : 0,\n",
    "            \"pythia_dip_H\" : 0,\n",
    "            \"pythia_dip_QCD\" : 0 ,\n",
    "#                 \"sherpa_def_H\" : 0,\n",
    "#                 \"sherpa_def_QCD\" : 0\n",
    "              }  \n",
    "\n",
    "\n",
    "try:\n",
    "\n",
    "#     for element in tqdm(process):\n",
    "#         process[element] = pd.read_csv(Data_High_Level_Features_path + str(element) + \".csv\")\n",
    "\n",
    "#         print(\"{}'s event number: {}\".format(element,len(process[element])))\n",
    "        \n",
    "        \n",
    "    for index, element in enumerate(tqdm(process)):\n",
    "        \n",
    "        if index%2 == 0: #Higgs\n",
    "            process[element] = pd.read_csv(Data_High_Level_Features_path + str(element) + \".csv\")\n",
    "\n",
    "        if index%2 == 1: #QCD\n",
    "            process[element] = pd.read_csv(Data_High_Level_Features_path + str(element) + \"_untrimmed.csv\")\n",
    "            process[element] = process[element].rename(columns={'GEN':'GEN', \n",
    "                     'SHO':'SHO', \n",
    "                     'PRO' : \"PRO\", \n",
    "                     'MJ_0' : \"MJ1_0\", \n",
    "                     'PTJ_0': \"PTJ1_0\",\n",
    "                     't21_0': \"t211_0\",\n",
    "                     'D21_0': \"D211_0\",\n",
    "                     'D22_0':\"D221_0\",\n",
    "                     'C21_0': \"C211_0\", \n",
    "                     'C22_0':\"C221_0\",\n",
    "                     'MJ':\"MJ1\", \n",
    "                     'PTJ':\"PTJ1\", \n",
    "                     't21':\"t211\", \n",
    "                     'D21':\"D211\", \n",
    "                     'D22':\"D221\", \n",
    "                     'C21':\"C211\", \n",
    "                     'C22':\"C221\", \n",
    "                     'eventindex':\"eventindex\", \n",
    "                     'index':\"index\"\n",
    "                    })\n",
    "\n",
    "        print(\"{}'s event number: {}\".format(element,len(process[element])))\n",
    "\n",
    "        \n",
    "except:\n",
    "    print(\"Please go back to previous cell.\")"
   ]
  },
  {
   "cell_type": "markdown",
   "metadata": {},
   "source": [
    "# Generate Image Lists "
   ]
  },
  {
   "cell_type": "code",
   "execution_count": 4,
   "metadata": {},
   "outputs": [
    {
     "name": "stderr",
     "output_type": "stream",
     "text": [
      " 12%|█▎        | 1/8 [00:00<00:06,  1.14it/s]"
     ]
    },
    {
     "name": "stdout",
     "output_type": "stream",
     "text": [
      "List path: /dicos_ui_home/alanchung/UniversalityDNN_DiHiggs/Data_ML/herwig_ang_H_dict.csv\n",
      "herwig_ang_H's event number: 999997\n"
     ]
    },
    {
     "name": "stderr",
     "output_type": "stream",
     "text": [
      " 25%|██▌       | 2/8 [00:01<00:04,  1.21it/s]"
     ]
    },
    {
     "name": "stdout",
     "output_type": "stream",
     "text": [
      "List path: /dicos_ui_home/alanchung/UniversalityDNN_DiHiggs/Data_ML/herwig_ang_QCD_dict.csv\n",
      "herwig_ang_QCD's event number: 1000000\n"
     ]
    },
    {
     "name": "stderr",
     "output_type": "stream",
     "text": [
      " 38%|███▊      | 3/8 [00:02<00:03,  1.30it/s]"
     ]
    },
    {
     "name": "stdout",
     "output_type": "stream",
     "text": [
      "List path: /dicos_ui_home/alanchung/UniversalityDNN_DiHiggs/Data_ML/pythia_def_H_dict.csv\n",
      "pythia_def_H's event number: 999996\n"
     ]
    },
    {
     "name": "stderr",
     "output_type": "stream",
     "text": [
      " 50%|█████     | 4/8 [00:02<00:02,  1.37it/s]"
     ]
    },
    {
     "name": "stdout",
     "output_type": "stream",
     "text": [
      "List path: /dicos_ui_home/alanchung/UniversalityDNN_DiHiggs/Data_ML/pythia_def_QCD_dict.csv\n",
      "pythia_def_QCD's event number: 1000000\n"
     ]
    },
    {
     "name": "stderr",
     "output_type": "stream",
     "text": [
      " 62%|██████▎   | 5/8 [00:03<00:02,  1.30it/s]"
     ]
    },
    {
     "name": "stdout",
     "output_type": "stream",
     "text": [
      "List path: /dicos_ui_home/alanchung/UniversalityDNN_DiHiggs/Data_ML/pythia_vin_H_dict.csv\n",
      "pythia_vin_H's event number: 999997\n"
     ]
    },
    {
     "name": "stderr",
     "output_type": "stream",
     "text": [
      " 75%|███████▌  | 6/8 [00:04<00:01,  1.37it/s]"
     ]
    },
    {
     "name": "stdout",
     "output_type": "stream",
     "text": [
      "List path: /dicos_ui_home/alanchung/UniversalityDNN_DiHiggs/Data_ML/pythia_vin_QCD_dict.csv\n",
      "pythia_vin_QCD's event number: 1000000\n"
     ]
    },
    {
     "name": "stderr",
     "output_type": "stream",
     "text": [
      " 88%|████████▊ | 7/8 [00:05<00:00,  1.32it/s]"
     ]
    },
    {
     "name": "stdout",
     "output_type": "stream",
     "text": [
      "List path: /dicos_ui_home/alanchung/UniversalityDNN_DiHiggs/Data_ML/pythia_dip_H_dict.csv\n",
      "pythia_dip_H's event number: 1000000\n"
     ]
    },
    {
     "name": "stderr",
     "output_type": "stream",
     "text": [
      "100%|██████████| 8/8 [00:05<00:00,  1.35it/s]"
     ]
    },
    {
     "name": "stdout",
     "output_type": "stream",
     "text": [
      "List path: /dicos_ui_home/alanchung/UniversalityDNN_DiHiggs/Data_ML/pythia_dip_QCD_dict.csv\n",
      "pythia_dip_QCD's event number: 1000000\n"
     ]
    },
    {
     "name": "stderr",
     "output_type": "stream",
     "text": [
      "\n"
     ]
    }
   ],
   "source": [
    "HOMEPATH = \"/dicos_ui_home/alanchung/UniversalityDNN_DiHiggs/\"\n",
    "JetImagePath =  HOMEPATH + \"Data_ML/\" +\"Image_Directory_Leading/\"\n",
    "savepath = HOMEPATH + \"Data_ML/\"\n",
    "\n",
    "process = {\n",
    "            \"herwig_ang_H\" : 0,\n",
    "            \"herwig_ang_QCD\" : 0,\n",
    "            \"pythia_def_H\" : 0,\n",
    "            \"pythia_def_QCD\" : 0,\n",
    "            \"pythia_vin_H\" : 0,\n",
    "            \"pythia_vin_QCD\" : 0,\n",
    "            \"pythia_dip_H\" : 0,\n",
    "            \"pythia_dip_QCD\" : 0 ,\n",
    "#             \"sherpa_def_H\" : 0,\n",
    "#             \"sherpa_def_QCD\" : 0\n",
    "              }  \n",
    "\n",
    "    \n",
    "try:\n",
    "    \n",
    "    for element in tqdm(process):\n",
    "        total_data = pd.read_csv(savepath + str(element) + \"_dict.csv\")\n",
    "    \n",
    "    \n",
    "        print(\"List path: {}\".format(savepath + str(element) + \"_dict.csv\"))\n",
    "        print(\"{}'s event number: {}\".format(element,len(total_data)))\n",
    "        \n",
    "\n",
    "except:\n",
    "    \n",
    "    try: \n",
    "        folder_list_tmp = os.listdir(JetImagePath)\n",
    "\n",
    "        for label, element in tqdm(enumerate(process)):\n",
    "            img_length = 0\n",
    "            path_jet_image = []\n",
    "            folder_list = []\n",
    "\n",
    "            for i, folder in enumerate(folder_list_tmp):\n",
    "                    if isdir( join(JetImagePath, folder)):\n",
    "                       \n",
    "                        if folder[:12] == str(element):\n",
    "                            folder_list.append([folder,int(folder[17:])])\n",
    "\n",
    "\n",
    "                        if folder[:14] == str(element):\n",
    "                            folder_list.append([folder,int(folder[19:])])\n",
    "\n",
    "            folder_list = sorted(folder_list, key = lambda s: s[1])\n",
    "\n",
    "            for i, folder in enumerate(folder_list):\n",
    "                \n",
    "                if isdir( join(JetImagePath, folder[0])):\n",
    "\n",
    "                    if label%2 == 0:\n",
    "                        if folder[0][:12] == str(element):\n",
    "                            images_folder_tmp = os.listdir(join(JetImagePath, folder[0]))\n",
    "\n",
    "                            images_folder = sorted(images_folder_tmp, key = lambda s: int(s[6:len(s)-4]))\n",
    "\n",
    "                            for image in images_folder:\n",
    "                                path_jet_image.append(folder[0] + \"/\" + image)\n",
    "\n",
    "                            img_length += len(images_folder)\n",
    "\n",
    "                    if label%2 == 1:\n",
    "                        if folder[0][:14] == str(element):\n",
    "                            images_folder_tmp = os.listdir(join(JetImagePath, folder[0]))\n",
    "                            images_folder = sorted(images_folder_tmp, key = lambda s: int(s[6:len(s)-4]))\n",
    "\n",
    "                            for image in images_folder:\n",
    "                                path_jet_image.append(folder[0] + \"/\" + image)\n",
    "\n",
    "                            img_length += len(images_folder)\n",
    "                         \n",
    "                    \n",
    "            if label%2 == 0:\n",
    "                Ydata = np.full(img_length, 1) # Higgs Jet\n",
    "            if label%2 == 1:\n",
    "                Ydata = np.full(img_length, 0) # QCD Jet\n",
    "\n",
    "            dataframe = pd.DataFrame()\n",
    "            dataframe[\"JetImage\"] = path_jet_image\n",
    "            dataframe[\"Y\"] = np.array(Ydata,dtype=\"int\")\n",
    "            dataframe.to_csv(savepath + str(element) + \"_dict.csv\",index = 0)\n",
    "            \n",
    "            print(\"List path: {}\".format(savepath  + str(element) + \"_dict.csv\"))\n",
    "            print(\"{}'s event number: {}\".format(element,len(dataframe)))\n",
    "    except:\n",
    "        \n",
    "        print(\"error\")\n",
    "    "
   ]
  },
  {
   "cell_type": "markdown",
   "metadata": {},
   "source": [
    "# Split Data into Training, Validation and Test dataset"
   ]
  },
  {
   "cell_type": "code",
   "execution_count": 28,
   "metadata": {},
   "outputs": [
    {
     "name": "stdout",
     "output_type": "stream",
     "text": [
      "Fri Jul 16 05:07:21 2021\n",
      "herwig_ang_H 999997\n",
      "herwig_ang_QCD 628248\n",
      "pythia_def_H 999996\n",
      "pythia_def_QCD 781866\n",
      "pythia_vin_H 999997\n",
      "pythia_vin_QCD 644853\n",
      "pythia_dip_H 1000000\n",
      "pythia_dip_QCD 606929\n",
      "herwig_ang_H Preselection Efficiency: 0.468\n",
      "herwig_ang_QCD Preselection Efficiency: 0.080\n",
      "pythia_def_H Preselection Efficiency: 0.495\n",
      "pythia_def_QCD Preselection Efficiency: 0.085\n",
      "pythia_vin_H Preselection Efficiency: 0.486\n",
      "pythia_vin_QCD Preselection Efficiency: 0.082\n",
      "pythia_dip_H Preselection Efficiency: 0.459\n",
      "pythia_dip_QCD Preselection Efficiency: 0.091\n",
      "All Files are loaded!\n",
      "        Herwig Angular Pythia Default  Pythia Vincia  Pythia Dipole \n",
      "  H #       468366         494616         485581         459248     \n",
      " QCD #       50547          66575          52632          55387     \n",
      "\u001b[3;33mTime Cost : 0.4592 min\u001b[0;m\n",
      "\n",
      "All Files are shuffled!\n",
      "\u001b[3;33mTime Cost : 0.4671 min\u001b[0;m\n",
      "\n",
      "Prepare Training Files\n",
      "\u001b[3;33mTime Cost : 0.4671 min\u001b[0;m\n",
      "\n",
      "Prepare Target Labels\n",
      "\u001b[3;33mTime Cost : 0.4679 min\u001b[0;m\n",
      "\n",
      "Save training, test and validation datasets\n",
      "\u001b[3;33mTime Cost : 0.4680 min\u001b[0;m\n",
      "\n",
      "All Files are saved!\n",
      "\u001b[3;33mTime Cost : 0.6138 min\u001b[0;m\n",
      "\n",
      "H jet : QCD jet = 1 : 1\n",
      "\n",
      "        Herwig Angular Pythia Default  Pythia Vincia  Pythia Dipole \n",
      "Train #      70764          70764          70764          70764     \n",
      " Test #      15164          15164          15164          15164     \n",
      " Val. #      15164          15164          15164          15164     \n"
     ]
    }
   ],
   "source": [
    "HOMEPATH = \"/dicos_ui_home/alanchung/UniversalityDNN_DiHiggs/\"\n",
    "Data_High_Level_Features_path =  HOMEPATH + \"Data_ML/\" +\"Data_High_Level_Features/\"\n",
    " \n",
    "total_list = ['GEN', 'SHO', 'PRO', 'MJJ_0', 'delta_eta_0', 'XHH_0', 'MJ1_0', 'PTJ1_0',\n",
    "       'eta1_0', 'phi1_0', 't211_0', 'D211_0', 'D221_0', 'C211_0', 'C221_0',\n",
    "       'MJ2_0', 'PTJ2_0', 'eta2_0', 'phi2_0', 't212_0', 'D212_0', 'D222_0',\n",
    "       'C212_0', 'C222_0', 'MJJ', 'delta_eta', 'XHH', 'MJ1', 'PTJ1', 'eta1',\n",
    "       'phi1', 't211', 'D211', 'D221', 'C211', 'C221', 'MJ2', 'PTJ2', 'eta2',\n",
    "       'phi2', 't212', 'D212', 'D222', 'C212', 'C222', 'four_b_tag',\n",
    "       'three_b_tag', 'two_b_tag', 'eventindex', 'index']\n",
    "\n",
    "# if preprocess = \"trimmed\":\n",
    "\n",
    "#     features =  [\"MJ\",\"PTJ\",\"t12\",\"D21\",\"D22\",\"C21\",\"C22\"]\n",
    "    \n",
    "# elif if preprocess = \"untrimmed\":\n",
    "    \n",
    "#      features =  [\"MJ_0\",\"PTJ_0\",\"t12_0\",\"D21_0\",\"D22_0\",\"C21_0\",\"C22_0\"]\n",
    "\n",
    "if os.path.exists(HOMEPATH + \"Data_ML/BDT\") == 0:\n",
    "    os.mkdir(HOMEPATH + \"Data_ML/BDT/\")\n",
    "    datapath = HOMEPATH + \"Data_ML/Data_High_Level_Features/\"\n",
    "    savepath = HOMEPATH + \"Data_ML/BDT/\"\n",
    "else: \n",
    "    datapath = HOMEPATH + \"Data_ML/Data_High_Level_Features/\"\n",
    "    savepath = HOMEPATH + \"Data_ML/BDT/\"\n",
    "\n",
    "\n",
    "\n",
    "#######################################################################################\n",
    "print(time.strftime(\"%a %b %d %H:%M:%S %Y\", time.localtime()))\n",
    "ticks_1 = time.time()    \n",
    "\n",
    "\n",
    "\n",
    "\n",
    "try:\n",
    "    \n",
    "    data_train = {\n",
    "            \"herwig_ang_train\" : 0,\n",
    "            \"pythia_def_train\" : 0,\n",
    "            \"pythia_vin_train\" : 0,\n",
    "            \"pythia_dip_train\" : 0,\n",
    "            \"sherpa_def_train\" : 0\n",
    "            }  \n",
    "    \n",
    "    data_test = {\n",
    "            \"herwig_ang_test\" : 0,\n",
    "            \"pythia_def_test\" : 0,\n",
    "            \"pythia_vin_test\" : 0,\n",
    "            \"pythia_dip_test\" : 0,\n",
    "            \"sherpa_def_test\" : 0\n",
    "            }  \n",
    "    \n",
    "    data_val = {\n",
    "            \"herwig_ang_val\" : 0,\n",
    "            \"pythia_def_val\" : 0,\n",
    "            \"pythia_vin_val\" : 0,\n",
    "            \"pythia_dip_val\" : 0,\n",
    "            \"sherpa_def_val\" : 0\n",
    "            }  \n",
    "    \n",
    "    for i, element in enumerate(data_train):\n",
    "        data_train[element] = pd.read_csv(savepath + str(element) + \".csv\")\n",
    "        \n",
    "    for i, element in enumerate(data_test):\n",
    "        data_test[element] = pd.read_csv(savepath + str(element) + \".csv\")\n",
    "        \n",
    "    for i, element in enumerate(data_val):\n",
    "        data_val[element] = pd.read_csv(savepath + str(element) + \".csv\")\n",
    "\n",
    "    print(\"All Files are loaded!\")\n",
    "\n",
    "    ticks_2 = time.time()\n",
    "    totaltime =  ticks_2 - ticks_1\n",
    "    print(\"\\033[3;33mTime Cost : {:.4f} min\\033[0;m\".format(totaltime/60.))\n",
    "    #######################################################################################\n",
    "\n",
    "    print(\"H jet : QCD jet = 1 : 1\")\n",
    "    print(\"\\r\")\n",
    "    print(\"{:^8}{:^15}\".format(\"\",\"Pythia Default\"))\n",
    "    print(\"{:^8}{:^15}\".format(\"Train #\",len(data_train[\"pythia_def_train\"])))\n",
    "    print(\"{:^8}{:^15}\".format(\"Test #\",len(data_test[\"pythia_def_test\"])))\n",
    "    print(\"{:^8}{:^15}\".format(\"Val. #\",len(data_val[\"pythia_def_val\"])))\n",
    "    \n",
    "    \n",
    "\n",
    "except:\n",
    "\n",
    "    process = {\n",
    "            \"herwig_ang_H\" : 0,\n",
    "            \"herwig_ang_QCD\" : 0,\n",
    "            \"pythia_def_H\" : 0,\n",
    "            \"pythia_def_QCD\" : 0,\n",
    "            \"pythia_vin_H\" : 0,\n",
    "            \"pythia_vin_QCD\" : 0,\n",
    "            \"pythia_dip_H\" : 0,\n",
    "            \"pythia_dip_QCD\" : 0 ,\n",
    "#                 \"sherpa_def_H\" : 0,\n",
    "#                 \"sherpa_def_QCD\" : 0\n",
    "              }  \n",
    "    \n",
    "    \n",
    "    for i, element in enumerate(process):\n",
    "#         process[element] = pd.read_csv(datapath + str(element) + \".csv\")\n",
    "        \n",
    "\n",
    "        if i%2 == 0: #Higgs\n",
    "            process[element] = pd.read_csv(Data_High_Level_Features_path + str(element) + \".csv\")\n",
    "\n",
    "        if i%2 == 1: #QCD\n",
    "            process[element] = pd.read_csv(Data_High_Level_Features_path + str(element) + \"_untrimmed.csv\")\n",
    "            process[element] = process[element].rename(columns={'GEN':'GEN', \n",
    "                     'SHO':'SHO', \n",
    "                     'PRO' : \"PRO\", \n",
    "                     'MJ_0' : \"MJ1_0\", \n",
    "                     'PTJ_0': \"PTJ1_0\",\n",
    "                     't21_0': \"t211_0\",\n",
    "                     'D21_0': \"D211_0\",\n",
    "                     'D22_0':\"D221_0\",\n",
    "                     'C21_0': \"C211_0\", \n",
    "                     'C22_0':\"C221_0\",\n",
    "                     'MJ':\"MJ1\", \n",
    "                     'PTJ':\"PTJ1\", \n",
    "                     't21':\"t211\", \n",
    "                     'D21':\"D211\", \n",
    "                     'D22':\"D221\", \n",
    "                     'C21':\"C211\", \n",
    "                     'C22':\"C221\", \n",
    "                     'eventindex':\"eventindex\", \n",
    "                     'index':\"index\"\n",
    "                    })\n",
    "\n",
    "\n",
    "    for j, element in enumerate(process):\n",
    "        print(element, len(process[element]))\n",
    "    \n",
    "\n",
    "    \"\"\"\n",
    "    Mass Cut and PT cut\n",
    "    \"\"\"\n",
    "    #######################\n",
    "    for j , element in enumerate(process):\n",
    "        tmp = process[element]\n",
    "        tmp = tmp[(tmp[\"MJ1_0\"] > 50) ]\n",
    "        tmp = tmp[(tmp[\"PTJ1_0\"] > 450)]\n",
    "        if j%2 == 0: #Higgs\n",
    "            tmp = tmp[(abs(tmp[\"eta1_0\"]) < 2)]\n",
    "        \n",
    "#         tmp = tmp[(tmp[\"MJ1_0\"] > 50) & (tmp[\"MJ2_0\"] > 50)]\n",
    "#         tmp = tmp[(tmp[\"PTJ1_0\"] > 450) & (tmp[\"PTJ2_0\"] > 250)]\n",
    "#         tmp = tmp[(abs(tmp[\"eta1_0\"]) < 2) & (abs(tmp[\"eta2_0\"]) < 2)]\n",
    "#         tmp = tmp[(abs(tmp[\"delta_eta_0\"]) < 1.3)]\n",
    "        \n",
    "        print(\"{} Preselection Efficiency: {:.3f}\".format(element,len(tmp)/len(process[element])))\n",
    "        process[element] = tmp\n",
    "    #######################\n",
    "    \n",
    "    print(\"All Files are loaded!\")\n",
    "    \n",
    "    H_length = [ len(process[element]) for j, element in enumerate(process) if j%2 == 0]\n",
    "    QCD_length = [len(process[element]) for j, element in enumerate(process) if j%2 == 1]\n",
    "#     print(H_length)\n",
    "#     print(QCD_length)\n",
    "#     print(\"{:^8}{:^15}{:^15}{:^15}{:^15}{:^15}\".format(\"\",\"Herwig Angular\",\"Pythia Default\",\"Pythia Vincia\",\"Pythia Dipole\",\"Sherpa Default\"))\n",
    "#     print(\"{:^8}{:^15}{:^15}{:^15}{:^15}{:^15}\".format(\"H #\",H_length[0],H_length[1],H_length[2],H_length[3],H_length[4]))\n",
    "#     print(\"{:^8}{:^15}{:^15}{:^15}{:^15}{:^15}\".format(\"QCD #\",len(herwig_ang_QCD),len(pythia_def_QCD),len(pythia_vin_QCD),len(pythia_dip_QCD),len(sherpa_def_QCD)))\n",
    "    print(\"{:^8}{:^15}{:^15}{:^15}{:^15}\".format(\"\",\"Herwig Angular\",\"Pythia Default\",\"Pythia Vincia\",\"Pythia Dipole\"))\n",
    "    print(\"{:^8}{:^15}{:^15}{:^15}{:^15}\".format(\"H #\",H_length[0],H_length[1],H_length[2],H_length[3]))\n",
    "    print(\"{:^8}{:^15}{:^15}{:^15}{:^15}\".format(\"QCD #\",QCD_length[0],QCD_length[1],QCD_length[2],QCD_length[3]))\n",
    "\n",
    "    \n",
    "    ticks_2 = time.time()\n",
    "    totaltime =  ticks_2 - ticks_1\n",
    "    print(\"\\033[3;33mTime Cost : {:.4f} min\\033[0;m\".format(totaltime/60.))\n",
    "    print(\"\\r\")\n",
    "    \n",
    "\n",
    "    for j , element in enumerate(process):\n",
    "        process[element] = shuffle(process[element])\n",
    "\n",
    "    print(\"All Files are shuffled!\")\n",
    "    ticks_2 = time.time()\n",
    "    totaltime =  ticks_2 - ticks_1\n",
    "    print(\"\\033[3;33mTime Cost : {:.4f} min\\033[0;m\".format(totaltime/60.))\n",
    "    print(\"\\r\")\n",
    "    \n",
    "\n",
    "    print(\"Prepare Training Files\")\n",
    "    ticks_2 = time.time()\n",
    "    totaltime =  ticks_2 - ticks_1\n",
    "    print(\"\\033[3;33mTime Cost : {:.4f} min\\033[0;m\".format(totaltime/60.))\n",
    "    print(\"\\r\")\n",
    "    \n",
    "    length = np.min([ len(process[element]) for element in process])\n",
    "    \n",
    "    data_train = {\n",
    "            \"herwig_ang_train\" : 0,\n",
    "            \"pythia_def_train\" : 0,\n",
    "            \"pythia_vin_train\" : 0,\n",
    "            \"pythia_dip_train\" : 0,\n",
    "#             \"sherpa_def_train\" : 0\n",
    "            }  \n",
    "    \n",
    "    data_test = {\n",
    "            \"herwig_ang_test\" : 0,\n",
    "            \"pythia_def_test\" : 0,\n",
    "            \"pythia_vin_test\" : 0,\n",
    "            \"pythia_dip_test\" : 0,\n",
    "#             \"sherpa_def_test\" : 0\n",
    "            }  \n",
    "    \n",
    "    data_val = {\n",
    "            \"herwig_ang_val\" : 0,\n",
    "            \"pythia_def_val\" : 0,\n",
    "            \"pythia_vin_val\" : 0,\n",
    "            \"pythia_dip_val\" : 0,\n",
    "#             \"sherpa_def_val\" : 0\n",
    "            }  \n",
    "\n",
    "    ntrain = int(length*0.7)\n",
    "    for i, element in enumerate(data_train):\n",
    "        data_train[element] = pd.concat([ process[tmp][:ntrain] for j, tmp in enumerate(process) if (j >= i*2 and 2*i+1 >= j) ],ignore_index=True,axis=0,join='inner')\n",
    "\n",
    "    ntest = int(length*0.15) + ntrain\n",
    "    for i, element in enumerate(data_test):\n",
    "        data_test[element] = pd.concat([ process[tmp][ntrain:ntest] for j, tmp in enumerate(process) if (j >= i*2 and 2*i+1 >= j) ],ignore_index=True,axis=0,join='inner')\n",
    "    \n",
    "    nval = int(length*0.15) + ntest\n",
    "    for i, element in enumerate(data_val):\n",
    "        data_val[element] = pd.concat([ process[tmp][ntest:nval] for j, tmp in enumerate(process) if (j >= i*2 and 2*i+1 >= j) ],ignore_index=True,axis=0,join='inner')\n",
    "\n",
    "\n",
    "    print(\"Prepare Target Labels\")\n",
    "    ticks_2 = time.time()\n",
    "    totaltime =  ticks_2 - ticks_1\n",
    "    print(\"\\033[3;33mTime Cost : {:.4f} min\\033[0;m\".format(totaltime/60.))\n",
    "    print(\"\\r\")\n",
    "    \n",
    "    y_train = np.concatenate((np.full(int(length*0.7), 1), np.full(int(length*0.7), 0)))\n",
    "    y_test = np.concatenate((np.full(int(length*0.15), 1), np.full(int(length*0.15), 0)))\n",
    "    y_val = np.concatenate((np.full(int(length*0.15), 1), np.full(int(length*0.15), 0)))\n",
    "    \n",
    "    for i, element in enumerate(data_train):\n",
    "        data_train[element][\"target\"] = y_train\n",
    "    \n",
    "    for i, element in enumerate(data_test):\n",
    "        data_test[element][\"target\"] = y_test\n",
    "        \n",
    "    for i, element in enumerate(data_val):\n",
    "        data_val[element][\"target\"] = y_val\n",
    "        \n",
    "        \n",
    "    print(\"Save training, test and validation datasets\")\n",
    "    ticks_2 = time.time()\n",
    "    totaltime =  ticks_2 - ticks_1\n",
    "    print(\"\\033[3;33mTime Cost : {:.4f} min\\033[0;m\".format(totaltime/60.))\n",
    "    print(\"\\r\")\n",
    "    \n",
    "    for i, element in enumerate(data_train):\n",
    "        data_train[element].to_csv(savepath + str(element) + \".csv\",index = 0)\n",
    "        \n",
    "    for i, element in enumerate(data_test):\n",
    "        data_test[element].to_csv(savepath + str(element) + \".csv\",index = 0)\n",
    "        \n",
    "    for i, element in enumerate(data_val):\n",
    "        data_val[element].to_csv(savepath + str(element) + \".csv\",index = 0)\n",
    "\n",
    "    print(\"All Files are saved!\")\n",
    "    ticks_2 = time.time()\n",
    "    totaltime =  ticks_2 - ticks_1\n",
    "    print(\"\\033[3;33mTime Cost : {:.4f} min\\033[0;m\".format(totaltime/60.))\n",
    "    print(\"\\r\")\n",
    "    \n",
    "\n",
    "    print(\"H jet : QCD jet = 1 : 1\")\n",
    "    print(\"\\r\")\n",
    "#     print(\"{:^8}{:^15}\".format(\"\",\"Pythia Default\"))\n",
    "#     print(\"{:^8}{:^15}\".format(\"Train #\",len(data_train[\"pythia_def_train\"])))\n",
    "#     print(\"{:^8}{:^15}\".format(\"Test #\",len(data_test[\"pythia_def_test\"])))\n",
    "#     print(\"{:^8}{:^15}\".format(\"Val. #\",len(data_val[\"pythia_def_val\"])))\n",
    "\n",
    "    train = [ len(data_train[element]) for j, element in enumerate(data_train)]\n",
    "    test = [len(data_test[element]) for j, element in enumerate(data_test)]\n",
    "    val = [len(data_val[element]) for j, element in enumerate(data_val)]\n",
    "    \n",
    "    # print(\"{:^8}{:^15}{:^15}{:^15}{:^15}{:^15}\".format(\"\",\"Herwig Angular\",\"Pythia Default\",\"Pythia Vincia\",\"Pythia Dipole\",\"Sherpa Default\"))\n",
    "    # print(\"{:^8}{:^15}{:^15}{:^15}{:^15}{:^15}\".format(\"Train #\",len(herwig_ang_train),len(pythia_def_train),len(pythia_vin_train),len(pythia_dip_train),len(sherpa_def_train)))\n",
    "    # print(\"{:^8}{:^15}{:^15}{:^15}{:^15}{:^15}\".format(\"Test #\",len(herwig_ang_test),len(pythia_def_test),len(pythia_vin_test),len(pythia_dip_test),len(sherpa_def_test)))\n",
    "    # print(\"{:^8}{:^15}{:^15}{:^15}{:^15}{:^15}\".format(\"Val. #\",len(herwig_ang_val),len(pythia_def_val),len(pythia_vin_val),len(pythia_dip_val),len(sherpa_def_val)))\n",
    "    print(\"{:^8}{:^15}{:^15}{:^15}{:^15}\".format(\"\",\"Herwig Angular\",\"Pythia Default\",\"Pythia Vincia\",\"Pythia Dipole\"))\n",
    "    print(\"{:^8}{:^15}{:^15}{:^15}{:^15}\".format(\"Train #\",train[0],train[1],train[2],train[3]))\n",
    "    print(\"{:^8}{:^15}{:^15}{:^15}{:^15}\".format(\"Test #\",test[0],test[1],test[2],test[3]))\n",
    "    print(\"{:^8}{:^15}{:^15}{:^15}{:^15}\".format(\"Val. #\",val[0],val[1],val[2],val[3]))\n",
    "\n",
    "\n"
   ]
  },
  {
   "cell_type": "markdown",
   "metadata": {},
   "source": [
    "# Calculate Average Value and Variance for Image's Normalization and Standardization"
   ]
  },
  {
   "cell_type": "code",
   "execution_count": 6,
   "metadata": {},
   "outputs": [],
   "source": [
    "# Take in a tuple of image lists, calculate average and variance\n",
    "def Get_average_var(image_lists):\n",
    "    tmp_av, tmp_var = np.zeros((3,40,40)), np.zeros((3,40,40))\n",
    "    for i in range(3):\n",
    "        tmp_av[i] = np.average(image_lists[:,i], axis=0)\n",
    "\n",
    "        tmp_var[i] = np.var(image_lists[:,i], axis=0)\n",
    "\n",
    "    return tmp_av, tmp_var\n"
   ]
  },
  {
   "cell_type": "code",
   "execution_count": 7,
   "metadata": {},
   "outputs": [
    {
     "name": "stdout",
     "output_type": "stream",
     "text": [
      "pythia_vin_H average shape:  (3, 40, 40)\n",
      "pythia_vin_H varianve shape:  (3, 40, 40)\n",
      "pythia_vin_QCD average shape:  (3, 40, 40)\n",
      "pythia_vin_QCD varianve shape:  (3, 40, 40)\n",
      "pythia_dip_H average shape:  (3, 40, 40)\n",
      "pythia_dip_H varianve shape:  (3, 40, 40)\n",
      "pythia_dip_QCD average shape:  (3, 40, 40)\n",
      "pythia_dip_QCD varianve shape:  (3, 40, 40)\n"
     ]
    }
   ],
   "source": [
    "HOMEPATH = \"/dicos_ui_home/alanchung/UniversalityDNN_DiHiggs/\"\n",
    "JetImagePath =  HOMEPATH + \"Data_ML/\" +\"Image_Directory_Leading/\"\n",
    "savepath = HOMEPATH + \"Data_ML/\"\n",
    "\n",
    "process = {\n",
    "#             \"herwig_ang_H\" : 0,\n",
    "#             \"herwig_ang_QCD\" : 0,\n",
    "#             \"pythia_def_H\" : 0,\n",
    "#             \"pythia_def_QCD\" : 0,\n",
    "                \"pythia_vin_H\" : 0,\n",
    "                \"pythia_vin_QCD\" : 0,\n",
    "                \"pythia_dip_H\" : 0,\n",
    "                \"pythia_dip_QCD\" : 0 ,\n",
    "#                 \"sherpa_def_H\" : 0,\n",
    "#                 \"sherpa_def_QCD\" : 0\n",
    "              }  \n",
    "    \n",
    "for i, element in enumerate(process):\n",
    "    process[element] = pd.read_csv(savepath + str(element) + \"_dict.csv\")\n",
    "\n",
    "\n",
    "    \n",
    "try:\n",
    "    \n",
    "    for i, element in enumerate(process):\n",
    "        av = np.load(savepath + \"average\" + \"_\" + str(element) + \".npy\")\n",
    "        var = np.load(savepath + \"variance\" + \"_\" + str(element) + \".npy\")\n",
    "        print(str(element)+\" average shape: \",av.shape)\n",
    "        print(str(element)+\" varianve shape: \",var.shape)\n",
    "    \n",
    "except:\n",
    "\n",
    "    batch_size = 1000\n",
    "\n",
    "    nan_path_list = []\n",
    "    \n",
    "    for i in range(len(process)):\n",
    "        nan_path_list.append([])\n",
    "\n",
    "    for i, element in enumerate(process):\n",
    "        av, var = np.zeros((3,40,40)), np.zeros((3,40,40))\n",
    "        length = 0\n",
    "        nb_samples = len(process[element])\n",
    "        for start in tqdm(range(0, nb_samples, batch_size)):\n",
    "\n",
    "            x_batch = []\n",
    "            end = min(start + batch_size, nb_samples)\n",
    "\n",
    "            for img_path in range(start, end):\n",
    "\n",
    "                x_jet_path = JetImagePath + process[element][\"JetImage\"].iloc[img_path]\n",
    "                x_jet = np.load(x_jet_path)[\"jet_image\"]\n",
    "\n",
    "                if np.isnan(x_jet).any() == True:\n",
    "    #             if np.nansum(x_train_jet) == 0:\n",
    "                    nan_path_list[i].append(x_jet_path)\n",
    "                    continue \n",
    "                x_batch.append(x_jet)\n",
    "\n",
    "            x_batch = np.array(x_batch)\n",
    "\n",
    "            tmp_av, tmp_var = Get_average_var(x_batch)\n",
    "            av += tmp_av*len(x_batch)\n",
    "            var += tmp_var\n",
    "            length += len(x_batch)\n",
    "\n",
    "\n",
    "    #         if start == 3000:\n",
    "    #             break\n",
    "\n",
    "\n",
    "        av = av/length\n",
    "        np.save(savepath + \"average\" + \"_\" + str(element) + \".npy\", av)\n",
    "        np.save(savepath + \"variance\" + \"_\" + str(element) + \".npy\", var)\n",
    "\n"
   ]
  },
  {
   "cell_type": "code",
   "execution_count": null,
   "metadata": {},
   "outputs": [],
   "source": []
  }
 ],
 "metadata": {
  "kernelspec": {
   "display_name": "Python 3",
   "language": "python",
   "name": "python3"
  },
  "language_info": {
   "codemirror_mode": {
    "name": "ipython",
    "version": 3
   },
   "file_extension": ".py",
   "mimetype": "text/x-python",
   "name": "python",
   "nbconvert_exporter": "python",
   "pygments_lexer": "ipython3",
   "version": "3.6.8"
  }
 },
 "nbformat": 4,
 "nbformat_minor": 4
}
