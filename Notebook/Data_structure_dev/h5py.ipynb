{
 "cells": [
  {
   "cell_type": "code",
   "execution_count": 1,
   "metadata": {},
   "outputs": [],
   "source": [
    "import time\n",
    "import pyjet\n",
    "import numpy as np\n",
    "import h5py\n",
    "import uproot\n",
    "import pandas as pd\n",
    "from tqdm import tqdm\n",
    "\n",
    "from BranchClass import *\n",
    "\n",
    "\n",
    "import matplotlib.pyplot as plt\n",
    "from matplotlib.ticker import MaxNLocator\n",
    "from matplotlib.colors import ListedColormap, LinearSegmentedColormap, BoundaryNorm\n",
    "from matplotlib.collections import LineCollection\n",
    "from matplotlib import cm"
   ]
  },
  {
   "cell_type": "code",
   "execution_count": 2,
   "metadata": {},
   "outputs": [],
   "source": [
    "def M(pt1,eta1,phi1,m1,pt2,eta2,phi2,m2):\n",
    "    px1, py1, pz1 = pt1*np.cos(phi1), pt1*np.sin(phi1), np.sqrt(m1**2+pt1**2)*np.sinh(eta1)\n",
    "    e1 = np.sqrt(m1**2 + px1**2 + py1**2 + pz1**2)\n",
    "    px2, py2, pz2 = pt2*np.cos(phi2), pt2*np.sin(phi2), np.sqrt(m2**2+pt2**2)*np.sinh(eta2)\n",
    "    e2 = np.sqrt(m2**2 + px2**2 + py2**2 + pz2**2)\n",
    "    \n",
    "    return np.sqrt((e1+e2)**2-(px1+px2)**2-(py1+py2)**2-(pz1+pz2)**2)\n",
    "\n",
    "def MJJ(j1,j2):\n",
    "    pt1, eta1, phi1, m1 = j1.pt,j1.eta,j1.phi,j1.mass\n",
    "    pt2, eta2, phi2, m2 = j2.pt,j2.eta,j2.phi,j2.mass\n",
    "    \n",
    "    px1, py1, pz1 = pt1*np.cos(phi1), pt1*np.sin(phi1), np.sqrt(m1**2+pt1**2)*np.sinh(eta1)\n",
    "    e1 = np.sqrt(m1**2 + px1**2 + py1**2 + pz1**2)\n",
    "    px2, py2, pz2 = pt2*np.cos(phi2), pt2*np.sin(phi2), np.sqrt(m2**2+pt2**2)*np.sinh(eta2)\n",
    "    e2 = np.sqrt(m2**2 + px2**2 + py2**2 + pz2**2)\n",
    "    \n",
    "    return np.sqrt((e1+e2)**2-(px1+px2)**2-(py1+py2)**2-(pz1+pz2)**2)\n",
    "\n",
    "def digit(loc,pid):\n",
    "    #     //  PID digits (base 10) are: n nr nl nq1 nq2 nq3 nj\n",
    "    #     //   nj = 1, nq3=2 , nq2=3, nq1, nl, nr, n, n8, n9, n10 \n",
    "    #     //  the location enum provides a convenient index into the PID\n",
    "    numerator = 10**(loc-1)\n",
    "    \n",
    "    return int((abs(pid)/numerator)%10)\n",
    "\n",
    "def hasBottom(pid):\n",
    "    # get B hadron\n",
    "    # PID for B hadron are 5XX, 5XXX\n",
    "    # https://gitlab.com/hepcedar/rivet/-/blob/release-3-1-x/analyses/pluginCMS/CMS_2015_I1370682.cc#L390\n",
    "    # https://rivet.hepforge.org/code/2.1.0/a00827.html#ad4c917595339ea52152c2950ce1225e7\n",
    "    # https://pdg.lbl.gov/2019/reviews/rpp2019-rev-monte-carlo-numbering.pdf\n",
    "    if( digit(2,pid) == 5 or digit(3,pid) == 5 or digit(4,pid) == 5 ):\n",
    "        return True\n",
    "    else:\n",
    "        return False\n",
    "\n",
    "\n",
    "def Event_List(GenParticle, Jet, path=\"./data_gzip.h5\"):\n",
    "    print(\"Make Event List\")\n",
    "    print(time.strftime(\"%a %b %d %H:%M:%S %Y\", time.localtime()))\n",
    "    time.sleep(1)\n",
    "    ticks_1 = time.time()\n",
    "    \n",
    "    k = 0\n",
    "    bbbb_list = []\n",
    "    event_list = []\n",
    "    bb1_P4, bb2_P4 = [], []\n",
    "    Mbbbb = []\n",
    "    bhadron_list = []\n",
    "    \n",
    "    hf = h5py.File(path, 'w')\n",
    "    for N in tqdm(range(GenParticle.length)):\n",
    "\n",
    "        event_list_tmp = []\n",
    "        \n",
    "        event_list_tmp.append([GenParticle.PT_At(N),  GenParticle.Eta_At(N), \\\n",
    "                               GenParticle.Phi_At(N), GenParticle.Mass_At(N), \\\n",
    "                               GenParticle.PID_At(N), GenParticle.Status_At(N),\\\n",
    "                               GenParticle.Charge_At(N),\\\n",
    "                               np.full(len(GenParticle.PT_At(N)),0), #for B hadron tag\n",
    "                               GenParticle.M1_At(N), GenParticle.M2_At(N),\\\n",
    "                               GenParticle.D1_At(N), GenParticle.D2_At(N),\\\n",
    "                               \n",
    "\n",
    "                              ])\n",
    "        \n",
    "        event_list_tmp = np.array(event_list_tmp)\n",
    "        \n",
    "    \n",
    "        \"\"\"\n",
    "        Find All B Hadrons\n",
    "        \"\"\"\n",
    "        unstable_hadron = event_list_tmp[0][:,np.abs(event_list_tmp[0][5,:])==2]\n",
    "        bhadron_index = np.where(np.vectorize(hasBottom)(unstable_hadron[4,:])==True)[0] \n",
    "        bhadron = unstable_hadron[:,bhadron_index]\n",
    "        bhadron_list_tmp = []\n",
    "        \n",
    "        \"\"\"\n",
    "        Find B Hadrons before decay\n",
    "        \"\"\"\n",
    "        for i in range(len(bhadron[0])):   \n",
    "            if hasBottom(GenParticle.PID_At(N)[int(bhadron[10][i])]) == False and hasBottom(GenParticle.PID_At(N)[int(bhadron[11][i])]) == False:\n",
    "                bhadron_list_tmp.append(bhadron[:,i])\n",
    "        \n",
    "        \"\"\"\n",
    "        Ghost Association Method: create ghost-associated B Hadrons\n",
    "        \"\"\"\n",
    "        Ghostparam = 1E-20\n",
    "        for i, element in enumerate(bhadron_list_tmp):\n",
    "            bhadron_list_tmp[i][0] = element[0]*Ghostparam  # PT*Ghostparam\n",
    "            bhadron_list_tmp[i][3] = element[3]*Ghostparam  # Mass*Ghostparam\n",
    "            bhadron_list_tmp[i][7] = 1                      #B Hadron tag \n",
    "        \n",
    "        \"\"\"\n",
    "        Pick stable final state particel (status = 1) and filter ou neutrinos (|PID| = 12, 14, 16)\n",
    "        \"\"\"\n",
    "        event_list_tmp = event_list_tmp[0][:,event_list_tmp[0][5,:]==1] \n",
    "        event_list_tmp = event_list_tmp[:,np.abs(event_list_tmp[4,:])!=12]\n",
    "        event_list_tmp = event_list_tmp[:,np.abs(event_list_tmp[4,:])!=14]\n",
    "        event_list_tmp = event_list_tmp[:,np.abs(event_list_tmp[4,:])!=16]\n",
    "        \n",
    "        \"\"\"\n",
    "        Ghost Association Method: add ghost-associated B Hadrons\n",
    "        \"\"\"\n",
    "        event_list_tmp = np.concatenate((np.array(event_list_tmp).transpose(),bhadron_list_tmp)).transpose()\n",
    "        \n",
    "        event_list.append(event_list_tmp)\n",
    "        \n",
    "        hf.create_dataset(\"GenParticle/dataset_\" + str(N), data=event_list_tmp, compression=\"gzip\", compression_opts=5)\n",
    "    \n",
    "        k += 1\n",
    "        \n",
    "        if k > 10000:\n",
    "            break\n",
    "        \n",
    "        \n",
    "        \n",
    "    k = 0\n",
    "    jet_list = []\n",
    "    \n",
    "    for N in range(Jet.length):\n",
    "        \n",
    "        jet_list_tmp = []\n",
    "        jet_list_tmp_tmp = []\n",
    "\n",
    "\n",
    "        jet_list_tmp.append([Jet.PT_At(N),  Jet.Eta_At(N), \\\n",
    "                               Jet.Phi_At(N), Jet.Mass_At(N), \\\n",
    "                               Jet.Charge_At(N), Jet.BTag_At(N)\n",
    "                              ])\n",
    "\n",
    "\n",
    "        \n",
    "        jet_list_tmp = np.array(jet_list_tmp)\n",
    "\n",
    "        jet_list_tmp = jet_list_tmp[0]#[:,jet_list_tmp[0][5,:]==1]\n",
    "#         jet_list_tmp = jet_list_tmp[:,np.abs(jet_list_tmp[4,:])!=12]\n",
    "        \n",
    "        jet_list.append(jet_list_tmp)\n",
    "        \n",
    "        hf.create_dataset(\"Jet/dataset_\" + str(N), data=jet_list_tmp, compression=\"gzip\", compression_opts=5)\n",
    "        \n",
    "        k += 1\n",
    "        \n",
    "        if k > 10000:\n",
    "            break\n",
    "        \n",
    "        \n",
    "    hf.close()\n",
    "\n",
    "    ticks_2 = time.time()\n",
    "    totaltime =  ticks_2 - ticks_1\n",
    "    print(\"\\033[3;33mTime Cost : {:.4f} min\\033[0;m\".format(totaltime/60.))\n",
    "    \n",
    "#     return event_list\n",
    "\n",
    "\n",
    "\n"
   ]
  },
  {
   "cell_type": "code",
   "execution_count": 11,
   "metadata": {},
   "outputs": [
    {
     "name": "stdout",
     "output_type": "stream",
     "text": [
      "All Files are loaded!\n"
     ]
    }
   ],
   "source": [
    "# path = \".\"\n",
    "path = \"/home/u5/Universality_DiHiggs/Pythia_default\"\n",
    "\n",
    "process_path_pythia_default_H = path + \"/ppHhh_pythia_def_1.root\"\n",
    "\n",
    "try:\n",
    "    pythia_default_H = uproot.open(process_path_pythia_default_H)[\"Delphes;1\"]\n",
    "    \n",
    "    print(\"All Files are loaded!\")\n",
    "    \n",
    "except:\n",
    "    print(\"Please Check Input Files\")\n",
    "\n"
   ]
  },
  {
   "cell_type": "code",
   "execution_count": null,
   "metadata": {},
   "outputs": [],
   "source": [
    "pythia_default_H.show()"
   ]
  },
  {
   "cell_type": "code",
   "execution_count": 13,
   "metadata": {},
   "outputs": [],
   "source": [
    "GenParticle_pythia_default_H = BranchGenParticles(pythia_default_H)\n",
    "# Jet_pythia_default_H = BranchJet(pythia_default_H)\n",
    "Jet_pythia_default_H = BranchParticleFlowJet10(pythia_default_H)\n"
   ]
  },
  {
   "cell_type": "code",
   "execution_count": 14,
   "metadata": {},
   "outputs": [],
   "source": [
    "# Jet_List(Jet_pythia_default_H)"
   ]
  },
  {
   "cell_type": "code",
   "execution_count": 15,
   "metadata": {},
   "outputs": [
    {
     "name": "stdout",
     "output_type": "stream",
     "text": [
      "Make Event List\n",
      "Tue Jun 15 15:59:07 2021\n"
     ]
    },
    {
     "name": "stderr",
     "output_type": "stream",
     "text": [
      " 10%|█         | 10000/100000 [00:22<03:21, 446.04it/s]\n"
     ]
    },
    {
     "name": "stdout",
     "output_type": "stream",
     "text": [
      "\u001b[3;33mTime Cost : 0.4277 min\u001b[0;m\n"
     ]
    }
   ],
   "source": [
    "events = Event_List(GenParticle_pythia_default_H,Jet_pythia_default_H)"
   ]
  },
  {
   "cell_type": "code",
   "execution_count": 16,
   "metadata": {},
   "outputs": [],
   "source": [
    "hf_read = h5py.File(\"./data_gzip.h5\", 'r')"
   ]
  },
  {
   "cell_type": "code",
   "execution_count": null,
   "metadata": {},
   "outputs": [],
   "source": [
    "for name in hf_read:\n",
    "    print(name)\n",
    "    for name_name in hf_read[name]:\n",
    "        print(name_name)"
   ]
  },
  {
   "cell_type": "code",
   "execution_count": 17,
   "metadata": {},
   "outputs": [
    {
     "name": "stdout",
     "output_type": "stream",
     "text": [
      "Tue Jun 15 15:59:34 2021\n"
     ]
    },
    {
     "name": "stderr",
     "output_type": "stream",
     "text": [
      "100%|█████████▉| 9999/10001 [01:28<00:00, 113.60it/s]"
     ]
    },
    {
     "name": "stdout",
     "output_type": "stream",
     "text": [
      "\u001b[3;33mTime Cost : 1.4673 min\u001b[0;m\n",
      "\n",
      "\n"
     ]
    },
    {
     "name": "stderr",
     "output_type": "stream",
     "text": [
      "\n"
     ]
    }
   ],
   "source": [
    "process_list_clustered = []\n",
    "Higgs_candidate = []\n",
    "\n",
    "\n",
    "print(time.strftime(\"%a %b %d %H:%M:%S %Y\", time.localtime()))\n",
    "time.sleep(1)\n",
    "ticks_1 = time.time()\n",
    "counter = 0\n",
    "\n",
    "for i in tqdm(range(len(hf_read[\"GenParticle\"]))):\n",
    "\n",
    "    \"\"\"\n",
    "    Jet clustering \n",
    "    Fat jet: R = 1\n",
    "    Anti-kt\n",
    "    \"\"\"\n",
    "    to_cluster = np.core.records.fromarrays(hf_read.get('GenParticle/dataset_'+ str(i))[:8], \n",
    "                                            names=\"pt, eta, phi, mass, PID, Status, Charge, B_tag\",\n",
    "                                            formats = \"f8, f8, f8, f8, f8, f8, f8, f8\"\n",
    "                                           )\n",
    "    pt_min = 25\n",
    "    sequence_cluster = pyjet.cluster(to_cluster, R = 1, p = -1) # p = -1: anti-kt , 0: Cambridge-Aachen(C/A), 1: kt\n",
    "    jets_cluster = sequence_cluster.inclusive_jets(pt_min)\n",
    "    process_list_clustered.append(jets_cluster)\n",
    "\n",
    "    \"\"\"\n",
    "    Find two-B-hadron-tag jet (Higgs candidate)\n",
    "    \"\"\"\n",
    "    Higgs_candidate_tmp = []\n",
    "    for jet in jets_cluster:\n",
    "        B_tag = 0\n",
    "        for constituent in jet:\n",
    "            if constituent.B_tag == 1:\n",
    "                B_tag += 1\n",
    "        if B_tag >= 2:\n",
    "            Higgs_candidate_tmp.append(jet)\n",
    "\n",
    "    if len(Higgs_candidate_tmp) >= 2:\n",
    "        Higgs_candidate.append(Higgs_candidate_tmp)\n",
    "\n",
    "\n",
    "    counter += 1 \n",
    "    if counter == 10000:\n",
    "        break \n",
    "\n",
    "ticks_2 = time.time()\n",
    "totaltime =  ticks_2 - ticks_1\n",
    "print(\"\\033[3;33mTime Cost : {:.4f} min\\033[0;m\".format(totaltime/60.))\n",
    "print(\"\\n\")\n",
    "\n",
    "# print(len(process_list_clustered))"
   ]
  },
  {
   "cell_type": "code",
   "execution_count": 18,
   "metadata": {},
   "outputs": [
    {
     "name": "stderr",
     "output_type": "stream",
     "text": [
      "100%|██████████| 10000/10000 [00:23<00:00, 417.34it/s]\n"
     ]
    }
   ],
   "source": [
    "dataframe = pd.DataFrame()\n",
    "    \n",
    "features = [\"MJJ_truth\", \"delta_eta_truth\",\n",
    "            \"MJJ_det\", \"delta_eta_det\"\n",
    "           ]\n",
    "\n",
    "\n",
    "k = 0\n",
    "for N in tqdm(range(len(process_list_clustered))):\n",
    "#     if len(event_list_clustered[N]) >= 2: # at least two jets in this event.\n",
    "    jet_list_tmp = hf_read[\"Jet/dataset_\"+str(N)]\n",
    "    b_tag = jet_list_tmp[:,jet_list_tmp[5,:]==1]\n",
    "    if len(jet_list_tmp[0]) >= 2:# and len(b_tag[0]) >=2 : # at least two jets in this event.\n",
    "        \n",
    "#         print(\"N\", N)\n",
    "        var = []\n",
    "        \n",
    "#         var.append(GEN)\n",
    "#         var.append(SHO)\n",
    "#         var.append(PRO)\n",
    "        \n",
    "        jet_1_untrimmed = process_list_clustered[N][0] #leading jet's information\n",
    "        jet_2_untrimmed = process_list_clustered[N][1] #subleading jet's information\n",
    "        \n",
    "        var.append(MJJ(jet_1_untrimmed,jet_2_untrimmed))\n",
    "        var.append(abs(jet_1_untrimmed.eta-jet_2_untrimmed.eta))\n",
    "        \n",
    "        \n",
    "        \"Jet\"\n",
    "        \"\"\"\n",
    "        pT, eta, phi, mass, charge, b_tag\"\n",
    "        0 ,  1,  2,   3,    4,      5\n",
    "        \"\"\"\n",
    "#         jet_list_tmp = hf_read[\"Jet/dataset_\"+str(N)]\n",
    "    \n",
    "#         print(hf_read[\"Jet/dataset_\"+str(N)])\n",
    "#         jet_list_tmp = b_tag\n",
    "    \n",
    "        pt1 = jet_list_tmp[0][0]\n",
    "        pt2 = jet_list_tmp[0][1]\n",
    "        eta1 = jet_list_tmp[1][0]\n",
    "        eta2 = jet_list_tmp[1][1]\n",
    "        phi1 = jet_list_tmp[2][0]\n",
    "        phi2 = jet_list_tmp[2][1]\n",
    "        m1 = jet_list_tmp[3][0]\n",
    "        m2 = jet_list_tmp[3][1]\n",
    "        \n",
    "        #   b_tag = jet_list_tmp[:,jet_list_tmp[5,:]==1]\n",
    "        \n",
    "        var.append(M(pt1,eta1,phi1,m1,pt2,eta2,phi2,m2))\n",
    "        var.append(abs(eta1-eta2))\n",
    "        \n",
    "        \n",
    "        \n",
    "        \n",
    "        \n",
    "        dataframe_tmp = pd.DataFrame([var],columns=features)\n",
    "        dataframe = dataframe.append(dataframe_tmp, ignore_index = True)\n",
    "        \n",
    "dataframe.to_csv( \"./test.csv\", index = 0)\n"
   ]
  },
  {
   "cell_type": "code",
   "execution_count": 49,
   "metadata": {},
   "outputs": [
    {
     "data": {
      "text/plain": [
       "array([[321.78671265, 268.15380859],\n",
       "       [ -0.34810144,  -0.8727563 ],\n",
       "       [  0.79361022,  -2.3663311 ],\n",
       "       [ 38.11644745,  37.52404404],\n",
       "       [  1.        ,  -2.        ],\n",
       "       [  0.        ,   0.        ]])"
      ]
     },
     "execution_count": 49,
     "metadata": {},
     "output_type": "execute_result"
    }
   ],
   "source": [
    "jet_list_tmp = hf_read[\"Jet/dataset_2\"]\n",
    "jet_list_tmp[:]"
   ]
  },
  {
   "cell_type": "code",
   "execution_count": 41,
   "metadata": {},
   "outputs": [
    {
     "data": {
      "text/plain": [
       "array([], shape=(6, 0), dtype=float64)"
      ]
     },
     "execution_count": 41,
     "metadata": {},
     "output_type": "execute_result"
    }
   ],
   "source": [
    "jet_list_tmp = jet_list_tmp[:,jet_list_tmp[5,:]==1]\n",
    "jet_list_tmp"
   ]
  },
  {
   "cell_type": "code",
   "execution_count": 19,
   "metadata": {},
   "outputs": [],
   "source": [
    "data = pd.read_csv(\"./test.csv\")"
   ]
  },
  {
   "cell_type": "code",
   "execution_count": 20,
   "metadata": {},
   "outputs": [
    {
     "data": {
      "text/plain": [
       "Index(['MJJ_truth', 'delta_eta_truth', 'MJJ_det', 'delta_eta_det'], dtype='object')"
      ]
     },
     "execution_count": 20,
     "metadata": {},
     "output_type": "execute_result"
    }
   ],
   "source": [
    "data.columns"
   ]
  },
  {
   "cell_type": "code",
   "execution_count": 21,
   "metadata": {},
   "outputs": [
    {
     "data": {
      "image/png": "[encoded data removed]",
      "text/plain": [
       "<Figure size 864x648 with 1 Axes>"
      ]
     },
     "metadata": {
      "needs_background": "light"
     },
     "output_type": "display_data"
    }
   ],
   "source": [
    "fig, ax = plt.subplots(1,1, figsize=(12,9))\n",
    "\n",
    "length = np.linspace(0,2000,201)\n",
    "\n",
    "plt.hist(data[\"MJJ_truth\"], density=1, bins=length,histtype=\"step\", label=\"truth\")\n",
    "plt.hist(data[\"MJJ_det\"], density=1, bins=length,histtype=\"step\", label=\"detector\")\n",
    "\n",
    "plt.ylim((0.))\n",
    "plt.xlim((0.,2000))\n",
    "plt.legend(loc=\"best\",ncol=1,fontsize=25, edgecolor = \"w\",fancybox=False, framealpha=0)\n",
    "\n",
    "plt.show()  "
   ]
  },
  {
   "cell_type": "code",
   "execution_count": 22,
   "metadata": {},
   "outputs": [
    {
     "data": {
      "image/png": "[encoded data removed]",
      "text/plain": [
       "<Figure size 864x648 with 1 Axes>"
      ]
     },
     "metadata": {
      "needs_background": "light"
     },
     "output_type": "display_data"
    }
   ],
   "source": [
    "fig, ax = plt.subplots(1,1, figsize=(12,9))\n",
    "\n",
    "length = np.linspace(0,20,201)\n",
    "\n",
    "plt.hist(data[\"delta_eta_truth\"], density=1, bins=length,histtype=\"step\", label=\"truth\")\n",
    "plt.hist(data[\"delta_eta_det\"], density=1, bins=length,histtype=\"step\", label=\"detector\")\n",
    "\n",
    "plt.ylim((0.))\n",
    "plt.xlim((0.,10))\n",
    "plt.legend(loc=\"best\",ncol=1,fontsize=25, edgecolor = \"w\",fancybox=False, framealpha=0)\n",
    "\n",
    "plt.show()  "
   ]
  },
  {
   "cell_type": "code",
   "execution_count": null,
   "metadata": {},
   "outputs": [],
   "source": []
  },
  {
   "cell_type": "code",
   "execution_count": null,
   "metadata": {},
   "outputs": [],
   "source": []
  }
 ],
 "metadata": {
  "kernelspec": {
   "display_name": "Python 3",
   "language": "python",
   "name": "python3"
  },
  "language_info": {
   "codemirror_mode": {
    "name": "ipython",
    "version": 3
   },
   "file_extension": ".py",
   "mimetype": "text/x-python",
   "name": "python",
   "nbconvert_exporter": "python",
   "pygments_lexer": "ipython3",
   "version": "3.8.5"
  }
 },
 "nbformat": 4,
 "nbformat_minor": 4
}
